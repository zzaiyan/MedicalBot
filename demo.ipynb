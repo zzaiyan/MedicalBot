{
 "cells": [
  {
   "cell_type": "code",
   "execution_count": 1,
   "id": "be765a4f-fd2a-4a7f-9af1-578ca8450f89",
   "metadata": {},
   "outputs": [
    {
     "name": "stderr",
     "output_type": "stream",
     "text": [
      "/root/miniconda3/lib/python3.8/site-packages/mindnlp/utils/download.py:29: TqdmExperimentalWarning: Using `tqdm.autonotebook.tqdm` in notebook mode. Use `tqdm.tqdm` instead to force console mode (e.g. in jupyter console)\n",
      "  from tqdm.autonotebook import tqdm\n"
     ]
    }
   ],
   "source": [
    "import ipywidgets as widgets\n",
    "from ipywidgets import AppLayout, Button, Layout\n",
    "import mindspore\n",
    "import argparse\n",
    "import numpy as np\n",
    "import logging\n",
    "import mindspore.dataset as ds\n",
    "import os\n",
    "import re\n",
    "\n",
    "import json\n",
    "\n",
    "from tqdm import tqdm\n",
    "from datetime import datetime\n",
    "from mindspore.nn import CrossEntropyLoss\n",
    "from mindspore import nn, ops\n",
    "from mindspore.train.serialization import save_checkpoint\n",
    "from mindspore.dataset import TextFileDataset, GeneratorDataset\n",
    "\n",
    "from mindnlp.transforms import BertTokenizer\n",
    "from mindnlp.modules import Accumulator\n",
    "from mindnlp.models import GPT2Config, GPT2LMHeadModel"
   ]
  },
  {
   "cell_type": "code",
   "execution_count": 2,
   "id": "d89e6c06-64ae-499b-9af5-eee0a6076c68",
   "metadata": {},
   "outputs": [],
   "source": [
    "epochs = 20\n",
    "batch_size = 8\n",
    "\n",
    "lr = 1e-4\n",
    "warmup_steps = 2000\n",
    "accumulate_step = 2\n",
    "max_grad_norm = 1.0\n",
    "\n",
    "log_step = 100"
   ]
  },
  {
   "cell_type": "code",
   "execution_count": 9,
   "id": "77663267-b009-40c4-977d-7b2c7a61e5d5",
   "metadata": {},
   "outputs": [
    {
     "data": {
      "text/plain": [
       "[]"
      ]
     },
     "execution_count": 9,
     "metadata": {},
     "output_type": "execute_result"
    }
   ],
   "source": [
    "from mindnlp._legacy.amp import auto_mixed_precision\n",
    "tokenizer = BertTokenizer.from_pretrained('bert-base-chinese')\n",
    "\n",
    "config = GPT2Config(vocab_size=len(tokenizer))\n",
    "model = GPT2LMHeadModel(config, ignore_index=tokenizer.pad_token_id)\n",
    "# model = auto_mixed_precision(model, 'O1')\n",
    "\n",
    "optimizer = nn.AdamWeightDecay(model.trainable_params(), lr)\n",
    "accumulator = Accumulator(optimizer, accumulate_step, max_grad_norm)\n",
    "params = mindspore.load_checkpoint('./gpt_epoch_finetune_5.ckpt')\n",
    "mindspore.load_param_into_net(model, params) "
   ]
  },
  {
   "cell_type": "code",
   "execution_count": 4,
   "id": "b3b6865a-fab7-4091-b837-60b130a78e4e",
   "metadata": {},
   "outputs": [],
   "source": [
    "def clean_text(text):\n",
    "    # cleaned_text = re.sub(r'[^\\u4e00-\\u9fa5a-zA-Z0-9,.]', ' ', text)\n",
    "    pattern = r\"[^a-zA-Z0-9\\u4e00-\\u9fa5,.\\?!，。？、]\"\n",
    "    cleaned_text = re.sub(pattern, \" \", text)\n",
    "    return cleaned_text.replace('\"', '').replace('\\t', '')"
   ]
  },
  {
   "cell_type": "code",
   "execution_count": 5,
   "id": "bc7375d0-47fe-4b9c-abde-8d05db8d4853",
   "metadata": {},
   "outputs": [],
   "source": [
    "inputBox = widgets.Textarea(description='Question:',layout=Layout(width='60%'))\n",
    "queryBtn = widgets.Button(description='query',button_style='primary',icon='search',layout=Layout(width='20%', height='40px'))\n",
    "outputBox = widgets.Textarea(\n",
    "    value='',\n",
    "    description='Answer:',\n",
    "    disabled=False,\n",
    "    layout=Layout(width='80%')\n",
    ")"
   ]
  },
  {
   "cell_type": "code",
   "execution_count": 6,
   "id": "66797c7f-8133-4858-b485-fc48de12c1b7",
   "metadata": {},
   "outputs": [],
   "source": [
    "def robot_query(query):\n",
    "    summury = ''\n",
    "\n",
    "    max_summary_len = 300\n",
    "    query = clean_text(query)\n",
    "    article = f'{query}<Paragraph>'\n",
    "    show = article.replace('<Paragraph>', '<sep>')\n",
    "    input_ids = tokenizer.encode(article).ids\n",
    "    print(f'query: \\n{show}\\n\\nanswer:')\n",
    "\n",
    "    for _ in range(max_summary_len):\n",
    "        inputs = mindspore.Tensor(input_ids, mindspore.int32)\n",
    "        output = model(inputs)[0]\n",
    "        pred = output.argmax(-1)[-1]\n",
    "        input_ids.append(pred.asnumpy())\n",
    "        summury = summury + tokenizer.id_to_token(pred.asnumpy())\n",
    "\n",
    "        if summury[-1] == ']':\n",
    "            if summury[-2]!='。':\n",
    "#                 print('。', end='')\n",
    "                outputBox.value = outputBox.value + '。'\n",
    "            break\n",
    "\n",
    "#         print(summury[-1], end='')\n",
    "        outputBox.value = outputBox.value + summury[-1]"
   ]
  },
  {
   "cell_type": "code",
   "execution_count": 7,
   "id": "aa1e0f3d-ae49-494a-af28-819ad622d681",
   "metadata": {},
   "outputs": [
    {
     "data": {
      "application/vnd.jupyter.widget-view+json": {
       "model_id": "59e86cda5e7b4f89a1d680135ede939c",
       "version_major": 2,
       "version_minor": 0
      },
      "text/plain": [
       "HBox(children=(Textarea(value='', description='Question:', layout=Layout(width='60%')), Button(button_style='p…"
      ]
     },
     "metadata": {},
     "output_type": "display_data"
    },
    {
     "data": {
      "application/vnd.jupyter.widget-view+json": {
       "model_id": "0d019ca16da94146ba82b27b222faa58",
       "version_major": 2,
       "version_minor": 0
      },
      "text/plain": [
       "Textarea(value='', description='Answer:', layout=Layout(width='80%'))"
      ]
     },
     "metadata": {},
     "output_type": "display_data"
    }
   ],
   "source": [
    "display(widgets.HBox([inputBox,queryBtn]),outputBox)\n",
    "\n",
    "def on_button_clicked(b):\n",
    "#     inputBox.value = inputBox.value + 'hhh'\n",
    "    outputBox.value = ''\n",
    "    robot_query(inputBox.value)\n",
    "\n",
    "queryBtn.on_click(on_button_clicked)"
   ]
  },
  {
   "cell_type": "code",
   "execution_count": null,
   "id": "fd1b2564-00b1-48ad-855d-fb8ab484c677",
   "metadata": {},
   "outputs": [],
   "source": []
  }
 ],
 "metadata": {
  "kernelspec": {
   "display_name": "Python 3 (ipykernel)",
   "language": "python",
   "name": "python3"
  },
  "language_info": {
   "codemirror_mode": {
    "name": "ipython",
    "version": 3
   },
   "file_extension": ".py",
   "mimetype": "text/x-python",
   "name": "python",
   "nbconvert_exporter": "python",
   "pygments_lexer": "ipython3",
   "version": "3.8.10"
  }
 },
 "nbformat": 4,
 "nbformat_minor": 5
}
